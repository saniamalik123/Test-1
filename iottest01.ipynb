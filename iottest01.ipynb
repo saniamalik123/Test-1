{
  "nbformat": 4,
  "nbformat_minor": 0,
  "metadata": {
    "colab": {
      "name": "iottest01.ipynb",
      "provenance": [],
      "collapsed_sections": []
    },
    "kernelspec": {
      "name": "python3",
      "display_name": "Python 3"
    },
    "language_info": {
      "name": "python"
    }
  },
  "cells": [
    {
      "cell_type": "code",
      "execution_count": null,
      "metadata": {
        "colab": {
          "base_uri": "https://localhost:8080/"
        },
        "id": "acHT7seaWp1o",
        "outputId": "353f02e3-4f5b-4f94-b577-29ba33d098cf"
      },
      "outputs": [
        {
          "output_type": "stream",
          "name": "stdout",
          "text": [
            "enter num: 4\n",
            "enter num: 5\n",
            "enter num: 6\n",
            "enter num: 7\n",
            "[4, 5, 6, 7]\n",
            "List of odd numbers is:  [5, 7]\n"
          ]
        }
      ],
      "source": [
        "#Q1_Print odd numbers.\n",
        "\n",
        "a=[]\n",
        "b=[]\n",
        "n=5\n",
        "for x in range(1,n):\n",
        "  a.append(int(input(\"enter num: \")))\n",
        "print(a) \n",
        "for y in a:\n",
        "  if y%2 != 0 :\n",
        "    b.append(y)\n",
        "print(\"List of odd numbers is: \",b)\n"
      ]
    },
    {
      "cell_type": "code",
      "source": [
        "#Q2_Sum of element\n",
        "\n",
        "a=[]\n",
        "n=int(input(\"Enter range: \"))\n",
        "for listt in range(1,n):\n",
        "  a.append(int(input(\"Enter numbers of list: \")))\n",
        "print(a)  \n",
        "final=sum(a)\n",
        "print(\"The sum of list: \",str(final))"
      ],
      "metadata": {
        "colab": {
          "base_uri": "https://localhost:8080/"
        },
        "id": "LAFb8oyjXfvo",
        "outputId": "094e11ae-2e63-499a-c607-0c2ba734243c"
      },
      "execution_count": null,
      "outputs": [
        {
          "output_type": "stream",
          "name": "stdout",
          "text": [
            "Enter range: 5\n",
            "Enter numbers of list: 2\n",
            "Enter numbers of list: 3\n",
            "Enter numbers of list: 4\n",
            "Enter numbers of list: 5\n",
            "[2, 3, 4, 5]\n",
            "The sum of list:  14\n"
          ]
        }
      ]
    },
    {
      "cell_type": "code",
      "source": [
        "#Q3_Reverse a list\n",
        "\n",
        "a=[]\n",
        "n=int(input(\"Enter range: \"))\n",
        "for listt in range(1,n):\n",
        "  a.append(int(input(\"Enter numbers of list: \")))\n",
        "print(a)  \n",
        "a.sort(reverse=True)\n",
        "print(a)"
      ],
      "metadata": {
        "colab": {
          "base_uri": "https://localhost:8080/"
        },
        "id": "agVOZsd9YNXR",
        "outputId": "86bfe3e8-b98b-4c22-f07d-5e1eebe2ff67"
      },
      "execution_count": null,
      "outputs": [
        {
          "output_type": "stream",
          "name": "stdout",
          "text": [
            "Enter range: 4\n",
            "Enter numbers of list: 1\n",
            "Enter numbers of list: 2\n",
            "Enter numbers of list: 3\n",
            "[1, 2, 3]\n",
            "[3, 2, 1]\n"
          ]
        }
      ]
    },
    {
      "cell_type": "code",
      "source": [
        "#Q4_Find the top two maximum number\n",
        "\n",
        "a=[]\n",
        "n=int(input(\"Enter number of elements:\"))\n",
        "for i in range(1,n+1):\n",
        "    b=int(input(\"Enter element:\"))\n",
        "    a.append(b)\n",
        "a.sort()\n",
        "print(\"Second largest element is: \",a[n-2])\n",
        "print(\"First largest element is:\",a[n-1])"
      ],
      "metadata": {
        "colab": {
          "base_uri": "https://localhost:8080/"
        },
        "id": "t-G7NdkfYt2J",
        "outputId": "b1caff57-10f8-45c4-a519-0637556df67e"
      },
      "execution_count": null,
      "outputs": [
        {
          "output_type": "stream",
          "name": "stdout",
          "text": [
            "Enter number of elements:5\n",
            "Enter element:34\n",
            "Enter element:45\n",
            "Enter element:56\n",
            "Enter element:67\n",
            "Enter element:34\n",
            "Second largest element is:  56\n",
            "First largest element is: 67\n"
          ]
        }
      ]
    },
    {
      "cell_type": "code",
      "source": [
        "#Q5_Find the second highest number\n",
        "\n",
        "a=[]\n",
        "n=int(input(\"Enter number of element: \"))\n",
        "for b in range(1,n+1):\n",
        "  b=int(input(\"Enter list element: \"))\n",
        "  a.append(b)\n",
        "a.sort()\n",
        "print(\"Second highest number is: \",a[n-2]) "
      ],
      "metadata": {
        "colab": {
          "base_uri": "https://localhost:8080/"
        },
        "id": "nMu-1iCIZbyg",
        "outputId": "57b6ebb0-2129-4395-bc7b-731c22f0cff1"
      },
      "execution_count": null,
      "outputs": [
        {
          "output_type": "stream",
          "name": "stdout",
          "text": [
            "Enter number of element: 5\n",
            "Enter list element: 45\n",
            "Enter list element: 36\n",
            "Enter list element: 23\n",
            "Enter list element: 76\n",
            "Enter list element: 45\n",
            "Second highest number is:  45\n"
          ]
        }
      ]
    },
    {
      "cell_type": "code",
      "source": [
        "#Q6_Print characters in decending order\n",
        "\n",
        "list=[\"A\",\"B\",\"C\",\"D\",\"E\",\"F\"]\n",
        "list.sort(reverse= True)\n",
        "print(\"Characters in decending: \",list)"
      ],
      "metadata": {
        "colab": {
          "base_uri": "https://localhost:8080/"
        },
        "id": "HQjEuB8ffHma",
        "outputId": "f04cd48b-9e0e-48db-c553-e3a84d9d910f"
      },
      "execution_count": null,
      "outputs": [
        {
          "output_type": "stream",
          "name": "stdout",
          "text": [
            "Characters in decending:  ['F', 'E', 'D', 'C', 'B', 'A']\n"
          ]
        }
      ]
    },
    {
      "cell_type": "code",
      "source": [
        "#Q7_\n",
        "\n",
        "a = input(\"Enter a character: \")\n",
        "b = \"\"\n",
        "for char in a:\n",
        "  if char not in b:\n",
        "    b += char\n",
        "print (\"After removing repeated characters: \",b)    "
      ],
      "metadata": {
        "colab": {
          "base_uri": "https://localhost:8080/"
        },
        "id": "szM-NOb3gJkp",
        "outputId": "417fd3ab-e705-4c42-ae28-ec007cc0a3f3"
      },
      "execution_count": null,
      "outputs": [
        {
          "output_type": "stream",
          "name": "stdout",
          "text": [
            "Enter a character: heeellloooooo\n",
            "After removing repeated characters:  helo\n"
          ]
        }
      ]
    },
    {
      "cell_type": "code",
      "source": [
        "#Q8_Check character is vowel or consonant\n",
        "\n",
        "a=input(\"Enter any character: \")\n",
        "if (a == \"a\" or a == \"A\" or a == \"e\" or a == \"E\" or a == \"i\" or a == \"I\" or a == \"o\" or a == \"O\" or a == \"u\" or a == \"U\"):\n",
        "  print(a,\"is a Vowel..!\")\n",
        "else:\n",
        "  print(a,\"is a consonant..!\")  "
      ],
      "metadata": {
        "colab": {
          "base_uri": "https://localhost:8080/"
        },
        "id": "2LcFzA5vcaA1",
        "outputId": "8eedddd8-1729-49c5-a4f6-12bd58e8b9a8"
      },
      "execution_count": null,
      "outputs": [
        {
          "output_type": "stream",
          "name": "stdout",
          "text": [
            "Enter any character: h\n",
            "h is a consonant..!\n"
          ]
        }
      ]
    },
    {
      "cell_type": "code",
      "source": [
        "#Q9_Calculate factorial of a number.\n",
        "\n",
        "n=int(input(\"Enter any number for factorial: \"))\n",
        "factorial=1\n",
        "if n<0:\n",
        "  print(\"sorry factorial doesnt exist for negative number !\")\n",
        "elif n==0:\n",
        "  print(\" the factorial of 0 is 1 \")\n",
        "else:\n",
        "  for i in range(1,n+1): \n",
        "     factorial= factorial*i\n",
        "print(factorial)\n",
        "  "
      ],
      "metadata": {
        "colab": {
          "base_uri": "https://localhost:8080/"
        },
        "id": "4iDmXJz0ej1B",
        "outputId": "26d24cad-618c-48b5-8a9d-3f341b2d069b"
      },
      "execution_count": null,
      "outputs": [
        {
          "output_type": "stream",
          "name": "stdout",
          "text": [
            "Enter any number for factorial: 4\n",
            "24\n"
          ]
        }
      ]
    },
    {
      "cell_type": "code",
      "source": [
        "#Q10_merge two list\n",
        "\n",
        "list1=[1,2,3,4,5,6]\n",
        "list2=[7,8,9,]\n",
        "list1.extend(list2)\n",
        "print(list1)"
      ],
      "metadata": {
        "colab": {
          "base_uri": "https://localhost:8080/"
        },
        "id": "HZBo2huQe00K",
        "outputId": "be6ea3ae-aaf3-4868-e243-e6f32f2ebb85"
      },
      "execution_count": null,
      "outputs": [
        {
          "output_type": "stream",
          "name": "stdout",
          "text": [
            "[1, 2, 3, 4, 5, 6, 7, 8, 9]\n"
          ]
        }
      ]
    },
    {
      "cell_type": "code",
      "source": [
        ""
      ],
      "metadata": {
        "id": "_mqiqgwUjKm_"
      },
      "execution_count": null,
      "outputs": []
    }
  ]
}